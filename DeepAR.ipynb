{
 "cells": [
  {
   "cell_type": "code",
   "execution_count": 2,
   "id": "dab9ab73",
   "metadata": {},
   "outputs": [
    {
     "name": "stdout",
     "output_type": "stream",
     "text": [
      "Collecting pytorch-forecasting\n",
      "  Downloading pytorch_forecasting-0.10.3-py3-none-any.whl (141 kB)\n",
      "     ------------------------------------ 141.4/141.4 kB 697.5 kB/s eta 0:00:00\n",
      "Collecting scipy<2.0,>=1.8\n",
      "  Downloading scipy-1.9.1-cp38-cp38-win_amd64.whl (38.6 MB)\n",
      "     ---------------------------------------- 38.6/38.6 MB 2.2 MB/s eta 0:00:00\n",
      "Requirement already satisfied: torch<2.0,>=1.7 in c:\\users\\mohamed\\anaconda3\\lib\\site-packages (from pytorch-forecasting) (1.12.0+cpu)\n",
      "Requirement already satisfied: pandas<2.0.0,>=1.3.0 in c:\\users\\mohamed\\anaconda3\\lib\\site-packages (from pytorch-forecasting) (1.4.3)\n",
      "Requirement already satisfied: matplotlib in c:\\users\\mohamed\\anaconda3\\lib\\site-packages (from pytorch-forecasting) (3.5.1)\n",
      "Requirement already satisfied: statsmodels in c:\\users\\mohamed\\anaconda3\\lib\\site-packages (from pytorch-forecasting) (0.12.2)\n",
      "Requirement already satisfied: pytorch-lightning<2.0.0,>=1.2.4 in c:\\users\\mohamed\\anaconda3\\lib\\site-packages (from pytorch-forecasting) (1.6.5)\n",
      "Collecting optuna<3.0.0,>=2.3.0\n",
      "  Downloading optuna-2.10.1-py3-none-any.whl (308 kB)\n",
      "     -------------------------------------- 308.2/308.2 kB 2.1 MB/s eta 0:00:00\n",
      "Requirement already satisfied: scikit-learn<1.2,>=0.24 in c:\\users\\mohamed\\anaconda3\\lib\\site-packages (from pytorch-forecasting) (1.0.2)\n",
      "Requirement already satisfied: sqlalchemy>=1.1.0 in c:\\users\\mohamed\\anaconda3\\lib\\site-packages (from optuna<3.0.0,>=2.3.0->pytorch-forecasting) (1.4.7)\n",
      "Requirement already satisfied: tqdm in c:\\users\\mohamed\\anaconda3\\lib\\site-packages (from optuna<3.0.0,>=2.3.0->pytorch-forecasting) (4.59.0)\n",
      "Collecting alembic\n",
      "  Downloading alembic-1.8.1-py3-none-any.whl (209 kB)\n",
      "     -------------------------------------- 209.8/209.8 kB 4.2 MB/s eta 0:00:00\n",
      "Collecting cmaes>=0.8.2\n",
      "  Downloading cmaes-0.8.2-py3-none-any.whl (15 kB)\n",
      "Requirement already satisfied: numpy in c:\\users\\mohamed\\anaconda3\\lib\\site-packages (from optuna<3.0.0,>=2.3.0->pytorch-forecasting) (1.21.6)\n",
      "Requirement already satisfied: packaging>=20.0 in c:\\users\\mohamed\\anaconda3\\lib\\site-packages (from optuna<3.0.0,>=2.3.0->pytorch-forecasting) (20.9)\n",
      "Collecting colorlog\n",
      "  Downloading colorlog-6.7.0-py2.py3-none-any.whl (11 kB)\n",
      "Requirement already satisfied: PyYAML in c:\\users\\mohamed\\anaconda3\\lib\\site-packages (from optuna<3.0.0,>=2.3.0->pytorch-forecasting) (5.4.1)\n",
      "Collecting cliff\n",
      "  Downloading cliff-4.0.0-py3-none-any.whl (80 kB)\n",
      "     ---------------------------------------- 81.0/81.0 kB 4.4 MB/s eta 0:00:00\n",
      "Requirement already satisfied: python-dateutil>=2.8.1 in c:\\users\\mohamed\\anaconda3\\lib\\site-packages (from pandas<2.0.0,>=1.3.0->pytorch-forecasting) (2.8.1)\n",
      "Requirement already satisfied: pytz>=2020.1 in c:\\users\\mohamed\\anaconda3\\lib\\site-packages (from pandas<2.0.0,>=1.3.0->pytorch-forecasting) (2021.1)\n",
      "Requirement already satisfied: protobuf<=3.20.1 in c:\\users\\mohamed\\anaconda3\\lib\\site-packages (from pytorch-lightning<2.0.0,>=1.2.4->pytorch-forecasting) (3.18.1)\n",
      "Requirement already satisfied: torchmetrics>=0.4.1 in c:\\users\\mohamed\\anaconda3\\lib\\site-packages (from pytorch-lightning<2.0.0,>=1.2.4->pytorch-forecasting) (0.7.3)\n",
      "Requirement already satisfied: tensorboard>=2.2.0 in c:\\users\\mohamed\\anaconda3\\lib\\site-packages (from pytorch-lightning<2.0.0,>=1.2.4->pytorch-forecasting) (2.9.1)\n",
      "Requirement already satisfied: typing-extensions>=4.0.0 in c:\\users\\mohamed\\anaconda3\\lib\\site-packages (from pytorch-lightning<2.0.0,>=1.2.4->pytorch-forecasting) (4.3.0)\n",
      "Requirement already satisfied: pyDeprecate>=0.3.1 in c:\\users\\mohamed\\anaconda3\\lib\\site-packages (from pytorch-lightning<2.0.0,>=1.2.4->pytorch-forecasting) (0.3.2)\n",
      "Requirement already satisfied: fsspec[http]!=2021.06.0,>=2021.05.0 in c:\\users\\mohamed\\anaconda3\\lib\\site-packages (from pytorch-lightning<2.0.0,>=1.2.4->pytorch-forecasting) (2022.5.0)\n",
      "Requirement already satisfied: joblib>=0.11 in c:\\users\\mohamed\\anaconda3\\lib\\site-packages (from scikit-learn<1.2,>=0.24->pytorch-forecasting) (1.0.1)\n",
      "Requirement already satisfied: threadpoolctl>=2.0.0 in c:\\users\\mohamed\\anaconda3\\lib\\site-packages (from scikit-learn<1.2,>=0.24->pytorch-forecasting) (2.1.0)\n",
      "Requirement already satisfied: fonttools>=4.22.0 in c:\\users\\mohamed\\anaconda3\\lib\\site-packages (from matplotlib->pytorch-forecasting) (4.32.0)\n",
      "Requirement already satisfied: pyparsing>=2.2.1 in c:\\users\\mohamed\\anaconda3\\lib\\site-packages (from matplotlib->pytorch-forecasting) (2.4.7)\n",
      "Requirement already satisfied: pillow>=6.2.0 in c:\\users\\mohamed\\anaconda3\\lib\\site-packages (from matplotlib->pytorch-forecasting) (9.0.1)\n",
      "Requirement already satisfied: kiwisolver>=1.0.1 in c:\\users\\mohamed\\anaconda3\\lib\\site-packages (from matplotlib->pytorch-forecasting) (1.3.1)\n",
      "Requirement already satisfied: cycler>=0.10 in c:\\users\\mohamed\\anaconda3\\lib\\site-packages (from matplotlib->pytorch-forecasting) (0.10.0)\n",
      "Requirement already satisfied: patsy>=0.5 in c:\\users\\mohamed\\anaconda3\\lib\\site-packages (from statsmodels->pytorch-forecasting) (0.5.1)\n",
      "Requirement already satisfied: six in c:\\users\\mohamed\\anaconda3\\lib\\site-packages (from cycler>=0.10->matplotlib->pytorch-forecasting) (1.15.0)\n",
      "Requirement already satisfied: requests in c:\\users\\mohamed\\anaconda3\\lib\\site-packages (from fsspec[http]!=2021.06.0,>=2021.05.0->pytorch-lightning<2.0.0,>=1.2.4->pytorch-forecasting) (2.28.1)\n",
      "Requirement already satisfied: aiohttp in c:\\users\\mohamed\\anaconda3\\lib\\site-packages (from fsspec[http]!=2021.06.0,>=2021.05.0->pytorch-lightning<2.0.0,>=1.2.4->pytorch-forecasting) (3.8.1)\n",
      "Requirement already satisfied: greenlet!=0.4.17 in c:\\users\\mohamed\\anaconda3\\lib\\site-packages (from sqlalchemy>=1.1.0->optuna<3.0.0,>=2.3.0->pytorch-forecasting) (1.0.0)\n",
      "Requirement already satisfied: google-auth-oauthlib<0.5,>=0.4.1 in c:\\users\\mohamed\\anaconda3\\lib\\site-packages (from tensorboard>=2.2.0->pytorch-lightning<2.0.0,>=1.2.4->pytorch-forecasting) (0.4.6)\n",
      "Requirement already satisfied: wheel>=0.26 in c:\\users\\mohamed\\anaconda3\\lib\\site-packages (from tensorboard>=2.2.0->pytorch-lightning<2.0.0,>=1.2.4->pytorch-forecasting) (0.37.1)\n",
      "Requirement already satisfied: tensorboard-plugin-wit>=1.6.0 in c:\\users\\mohamed\\anaconda3\\lib\\site-packages (from tensorboard>=2.2.0->pytorch-lightning<2.0.0,>=1.2.4->pytorch-forecasting) (1.8.1)\n",
      "Requirement already satisfied: google-auth<3,>=1.6.3 in c:\\users\\mohamed\\anaconda3\\lib\\site-packages (from tensorboard>=2.2.0->pytorch-lightning<2.0.0,>=1.2.4->pytorch-forecasting) (2.8.0)\n",
      "Requirement already satisfied: absl-py>=0.4 in c:\\users\\mohamed\\anaconda3\\lib\\site-packages (from tensorboard>=2.2.0->pytorch-lightning<2.0.0,>=1.2.4->pytorch-forecasting) (1.1.0)\n",
      "Requirement already satisfied: tensorboard-data-server<0.7.0,>=0.6.0 in c:\\users\\mohamed\\anaconda3\\lib\\site-packages (from tensorboard>=2.2.0->pytorch-lightning<2.0.0,>=1.2.4->pytorch-forecasting) (0.6.1)\n",
      "Requirement already satisfied: werkzeug>=1.0.1 in c:\\users\\mohamed\\anaconda3\\lib\\site-packages (from tensorboard>=2.2.0->pytorch-lightning<2.0.0,>=1.2.4->pytorch-forecasting) (1.0.1)\n",
      "Requirement already satisfied: markdown>=2.6.8 in c:\\users\\mohamed\\anaconda3\\lib\\site-packages (from tensorboard>=2.2.0->pytorch-lightning<2.0.0,>=1.2.4->pytorch-forecasting) (3.3.7)\n",
      "Requirement already satisfied: grpcio>=1.24.3 in c:\\users\\mohamed\\anaconda3\\lib\\site-packages (from tensorboard>=2.2.0->pytorch-lightning<2.0.0,>=1.2.4->pytorch-forecasting) (1.43.0)\n",
      "Requirement already satisfied: setuptools>=41.0.0 in c:\\users\\mohamed\\anaconda3\\lib\\site-packages (from tensorboard>=2.2.0->pytorch-lightning<2.0.0,>=1.2.4->pytorch-forecasting) (63.2.0)\n",
      "Collecting Mako\n",
      "  Downloading Mako-1.2.2-py3-none-any.whl (78 kB)\n",
      "     ---------------------------------------- 78.7/78.7 kB 4.3 MB/s eta 0:00:00\n",
      "Requirement already satisfied: importlib-metadata in c:\\users\\mohamed\\anaconda3\\lib\\site-packages (from alembic->optuna<3.0.0,>=2.3.0->pytorch-forecasting) (4.11.4)\n",
      "Collecting importlib-resources\n",
      "  Downloading importlib_resources-5.9.0-py3-none-any.whl (33 kB)\n",
      "Requirement already satisfied: PrettyTable>=0.7.2 in c:\\users\\mohamed\\anaconda3\\lib\\site-packages (from cliff->optuna<3.0.0,>=2.3.0->pytorch-forecasting) (0.7.2)\n",
      "Collecting autopage>=0.4.0\n",
      "  Downloading autopage-0.5.1-py3-none-any.whl (29 kB)\n",
      "Collecting stevedore>=2.0.1\n",
      "  Downloading stevedore-4.0.0-py3-none-any.whl (49 kB)\n",
      "     ---------------------------------------- 49.5/49.5 kB 2.5 MB/s eta 0:00:00\n",
      "Collecting cmd2>=1.0.0\n",
      "  Downloading cmd2-2.4.2-py3-none-any.whl (147 kB)\n",
      "     -------------------------------------- 147.1/147.1 kB 4.4 MB/s eta 0:00:00\n",
      "Requirement already satisfied: colorama in c:\\users\\mohamed\\anaconda3\\lib\\site-packages (from colorlog->optuna<3.0.0,>=2.3.0->pytorch-forecasting) (0.4.4)\n",
      "Requirement already satisfied: attrs>=16.3.0 in c:\\users\\mohamed\\anaconda3\\lib\\site-packages (from cmd2>=1.0.0->cliff->optuna<3.0.0,>=2.3.0->pytorch-forecasting) (20.3.0)\n",
      "Requirement already satisfied: wcwidth>=0.1.7 in c:\\users\\mohamed\\anaconda3\\lib\\site-packages (from cmd2>=1.0.0->cliff->optuna<3.0.0,>=2.3.0->pytorch-forecasting) (0.2.5)\n",
      "Collecting pyperclip>=1.6\n",
      "  Downloading pyperclip-1.8.2.tar.gz (20 kB)\n",
      "  Preparing metadata (setup.py): started\n",
      "  Preparing metadata (setup.py): finished with status 'done'\n",
      "Collecting pyreadline3\n",
      "  Downloading pyreadline3-3.4.1-py3-none-any.whl (95 kB)\n",
      "     ---------------------------------------- 95.2/95.2 kB 2.7 MB/s eta 0:00:00\n",
      "Requirement already satisfied: cachetools<6.0,>=2.0.0 in c:\\users\\mohamed\\anaconda3\\lib\\site-packages (from google-auth<3,>=1.6.3->tensorboard>=2.2.0->pytorch-lightning<2.0.0,>=1.2.4->pytorch-forecasting) (5.2.0)\n",
      "Requirement already satisfied: rsa<5,>=3.1.4 in c:\\users\\mohamed\\anaconda3\\lib\\site-packages (from google-auth<3,>=1.6.3->tensorboard>=2.2.0->pytorch-lightning<2.0.0,>=1.2.4->pytorch-forecasting) (4.8)\n",
      "Requirement already satisfied: pyasn1-modules>=0.2.1 in c:\\users\\mohamed\\anaconda3\\lib\\site-packages (from google-auth<3,>=1.6.3->tensorboard>=2.2.0->pytorch-lightning<2.0.0,>=1.2.4->pytorch-forecasting) (0.2.8)\n",
      "Requirement already satisfied: requests-oauthlib>=0.7.0 in c:\\users\\mohamed\\anaconda3\\lib\\site-packages (from google-auth-oauthlib<0.5,>=0.4.1->tensorboard>=2.2.0->pytorch-lightning<2.0.0,>=1.2.4->pytorch-forecasting) (1.3.1)\n",
      "Requirement already satisfied: zipp>=0.5 in c:\\users\\mohamed\\anaconda3\\lib\\site-packages (from importlib-metadata->alembic->optuna<3.0.0,>=2.3.0->pytorch-forecasting) (3.4.1)\n",
      "Requirement already satisfied: urllib3<1.27,>=1.21.1 in c:\\users\\mohamed\\anaconda3\\lib\\site-packages (from requests->fsspec[http]!=2021.06.0,>=2021.05.0->pytorch-lightning<2.0.0,>=1.2.4->pytorch-forecasting) (1.26.11)\n",
      "Requirement already satisfied: charset-normalizer<3,>=2 in c:\\users\\mohamed\\anaconda3\\lib\\site-packages (from requests->fsspec[http]!=2021.06.0,>=2021.05.0->pytorch-lightning<2.0.0,>=1.2.4->pytorch-forecasting) (2.0.12)\n",
      "Requirement already satisfied: idna<4,>=2.5 in c:\\users\\mohamed\\anaconda3\\lib\\site-packages (from requests->fsspec[http]!=2021.06.0,>=2021.05.0->pytorch-lightning<2.0.0,>=1.2.4->pytorch-forecasting) (2.6)\n",
      "Requirement already satisfied: certifi>=2017.4.17 in c:\\users\\mohamed\\anaconda3\\lib\\site-packages (from requests->fsspec[http]!=2021.06.0,>=2021.05.0->pytorch-lightning<2.0.0,>=1.2.4->pytorch-forecasting) (2021.10.8)\n",
      "Collecting pbr!=2.1.0,>=2.0.0\n",
      "  Downloading pbr-5.10.0-py2.py3-none-any.whl (112 kB)\n",
      "     -------------------------------------- 112.4/112.4 kB 3.3 MB/s eta 0:00:00\n",
      "Requirement already satisfied: multidict<7.0,>=4.5 in c:\\users\\mohamed\\anaconda3\\lib\\site-packages (from aiohttp->fsspec[http]!=2021.06.0,>=2021.05.0->pytorch-lightning<2.0.0,>=1.2.4->pytorch-forecasting) (6.0.2)\n",
      "Requirement already satisfied: yarl<2.0,>=1.0 in c:\\users\\mohamed\\anaconda3\\lib\\site-packages (from aiohttp->fsspec[http]!=2021.06.0,>=2021.05.0->pytorch-lightning<2.0.0,>=1.2.4->pytorch-forecasting) (1.7.2)\n",
      "Requirement already satisfied: frozenlist>=1.1.1 in c:\\users\\mohamed\\anaconda3\\lib\\site-packages (from aiohttp->fsspec[http]!=2021.06.0,>=2021.05.0->pytorch-lightning<2.0.0,>=1.2.4->pytorch-forecasting) (1.3.0)\n",
      "Requirement already satisfied: aiosignal>=1.1.2 in c:\\users\\mohamed\\anaconda3\\lib\\site-packages (from aiohttp->fsspec[http]!=2021.06.0,>=2021.05.0->pytorch-lightning<2.0.0,>=1.2.4->pytorch-forecasting) (1.2.0)\n",
      "Requirement already satisfied: async-timeout<5.0,>=4.0.0a3 in c:\\users\\mohamed\\anaconda3\\lib\\site-packages (from aiohttp->fsspec[http]!=2021.06.0,>=2021.05.0->pytorch-lightning<2.0.0,>=1.2.4->pytorch-forecasting) (4.0.2)\n",
      "Requirement already satisfied: MarkupSafe>=0.9.2 in c:\\users\\mohamed\\anaconda3\\lib\\site-packages (from Mako->alembic->optuna<3.0.0,>=2.3.0->pytorch-forecasting) (1.1.1)\n",
      "Requirement already satisfied: pyasn1<0.5.0,>=0.4.6 in c:\\users\\mohamed\\anaconda3\\lib\\site-packages (from pyasn1-modules>=0.2.1->google-auth<3,>=1.6.3->tensorboard>=2.2.0->pytorch-lightning<2.0.0,>=1.2.4->pytorch-forecasting) (0.4.8)\n",
      "Requirement already satisfied: oauthlib>=3.0.0 in c:\\users\\mohamed\\anaconda3\\lib\\site-packages (from requests-oauthlib>=0.7.0->google-auth-oauthlib<0.5,>=0.4.1->tensorboard>=2.2.0->pytorch-lightning<2.0.0,>=1.2.4->pytorch-forecasting) (3.2.0)\n",
      "Building wheels for collected packages: pyperclip\n",
      "  Building wheel for pyperclip (setup.py): started\n",
      "  Building wheel for pyperclip (setup.py): finished with status 'done'\n",
      "  Created wheel for pyperclip: filename=pyperclip-1.8.2-py3-none-any.whl size=11123 sha256=c7871663cb94d2c7c3969d8c90a710ee5d05d1c7eafc15d9d6ba7640455d2e46\n",
      "  Stored in directory: c:\\users\\mohamed\\appdata\\local\\pip\\cache\\wheels\\7f\\1a\\65\\84ff8c386bec21fca6d220ea1f5498a0367883a78dd5ba6122\n",
      "Successfully built pyperclip\n",
      "Installing collected packages: pyreadline3, pyperclip, scipy, pbr, Mako, importlib-resources, colorlog, cmd2, cmaes, autopage, stevedore, alembic, cliff, optuna, pytorch-forecasting\n",
      "  Attempting uninstall: scipy\n",
      "    Found existing installation: scipy 1.6.2\n",
      "    Uninstalling scipy-1.6.2:\n",
      "      Successfully uninstalled scipy-1.6.2\n",
      "Successfully installed Mako-1.2.2 alembic-1.8.1 autopage-0.5.1 cliff-4.0.0 cmaes-0.8.2 cmd2-2.4.2 colorlog-6.7.0 importlib-resources-5.9.0 optuna-2.10.1 pbr-5.10.0 pyperclip-1.8.2 pyreadline3-3.4.1 pytorch-forecasting-0.10.3 scipy-1.9.1 stevedore-4.0.0\n",
      "\n",
      "[notice] A new release of pip available: 22.2 -> 22.2.2\n",
      "[notice] To update, run: python.exe -m pip install --upgrade pip\n"
     ]
    },
    {
     "name": "stderr",
     "output_type": "stream",
     "text": [
      "ERROR: pip's dependency resolver does not currently take into account all the packages that are installed. This behaviour is the source of the following dependency conflicts.\n",
      "sktime 0.11.4 requires scipy<1.9.0, but you have scipy 1.9.1 which is incompatible.\n",
      "autogluon-timeseries 0.5.1 requires scipy<1.8.0,>=1.5.4, but you have scipy 1.9.1 which is incompatible.\n",
      "autogluon-tabular 0.5.1 requires scipy<1.8.0,>=1.5.4, but you have scipy 1.9.1 which is incompatible.\n",
      "autogluon-multimodal 0.5.1 requires scipy<1.8.0,>=1.5.4, but you have scipy 1.9.1 which is incompatible.\n",
      "autogluon-core 0.5.1 requires scipy<1.8.0,>=1.5.4, but you have scipy 1.9.1 which is incompatible.\n"
     ]
    },
    {
     "name": "stdout",
     "output_type": "stream",
     "text": [
      "Collecting pytorch-forecasting\n",
      "  Using cached pytorch_forecasting-0.10.3-py3-none-any.whl (141 kB)\n",
      "Collecting optuna<3.0.0,>=2.3.0\n",
      "  Using cached optuna-2.10.1-py3-none-any.whl (308 kB)\n",
      "Collecting scipy<2.0,>=1.8\n",
      "  Using cached scipy-1.9.1-cp38-cp38-win_amd64.whl (38.6 MB)\n",
      "Requirement already satisfied: matplotlib in c:\\users\\mohamed\\anaconda3\\lib\\site-packages (from pytorch-forecasting) (3.5.1)\n",
      "Requirement already satisfied: torch<2.0,>=1.7 in c:\\users\\mohamed\\anaconda3\\lib\\site-packages (from pytorch-forecasting) (1.12.0+cpu)\n",
      "Requirement already satisfied: pandas<2.0.0,>=1.3.0 in c:\\users\\mohamed\\anaconda3\\lib\\site-packages (from pytorch-forecasting) (1.4.3)\n",
      "Requirement already satisfied: scikit-learn<1.2,>=0.24 in c:\\users\\mohamed\\anaconda3\\lib\\site-packages (from pytorch-forecasting) (1.0.2)\n",
      "Requirement already satisfied: statsmodels in c:\\users\\mohamed\\anaconda3\\lib\\site-packages (from pytorch-forecasting) (0.12.2)\n",
      "Requirement already satisfied: pytorch-lightning<2.0.0,>=1.2.4 in c:\\users\\mohamed\\anaconda3\\lib\\site-packages (from pytorch-forecasting) (1.6.5)\n",
      "Collecting alembic\n",
      "  Using cached alembic-1.8.1-py3-none-any.whl (209 kB)\n",
      "Requirement already satisfied: numpy in c:\\users\\mohamed\\anaconda3\\lib\\site-packages (from optuna<3.0.0,>=2.3.0->pytorch-forecasting) (1.21.6)\n",
      "Requirement already satisfied: sqlalchemy>=1.1.0 in c:\\users\\mohamed\\anaconda3\\lib\\site-packages (from optuna<3.0.0,>=2.3.0->pytorch-forecasting) (1.4.7)\n",
      "Requirement already satisfied: packaging>=20.0 in c:\\users\\mohamed\\anaconda3\\lib\\site-packages (from optuna<3.0.0,>=2.3.0->pytorch-forecasting) (20.9)\n",
      "Requirement already satisfied: PyYAML in c:\\users\\mohamed\\anaconda3\\lib\\site-packages (from optuna<3.0.0,>=2.3.0->pytorch-forecasting) (5.4.1)\n",
      "Collecting cliff\n",
      "  Using cached cliff-4.0.0-py3-none-any.whl (80 kB)\n",
      "Requirement already satisfied: tqdm in c:\\users\\mohamed\\anaconda3\\lib\\site-packages (from optuna<3.0.0,>=2.3.0->pytorch-forecasting) (4.59.0)\n",
      "Collecting colorlog\n",
      "  Using cached colorlog-6.7.0-py2.py3-none-any.whl (11 kB)\n",
      "Collecting cmaes>=0.8.2\n",
      "  Using cached cmaes-0.8.2-py3-none-any.whl (15 kB)\n",
      "Requirement already satisfied: python-dateutil>=2.8.1 in c:\\users\\mohamed\\anaconda3\\lib\\site-packages (from pandas<2.0.0,>=1.3.0->pytorch-forecasting) (2.8.1)\n",
      "Requirement already satisfied: pytz>=2020.1 in c:\\users\\mohamed\\anaconda3\\lib\\site-packages (from pandas<2.0.0,>=1.3.0->pytorch-forecasting) (2021.1)\n",
      "Requirement already satisfied: pyDeprecate>=0.3.1 in c:\\users\\mohamed\\anaconda3\\lib\\site-packages (from pytorch-lightning<2.0.0,>=1.2.4->pytorch-forecasting) (0.3.2)\n",
      "Requirement already satisfied: typing-extensions>=4.0.0 in c:\\users\\mohamed\\anaconda3\\lib\\site-packages (from pytorch-lightning<2.0.0,>=1.2.4->pytorch-forecasting) (4.3.0)\n",
      "Requirement already satisfied: torchmetrics>=0.4.1 in c:\\users\\mohamed\\anaconda3\\lib\\site-packages (from pytorch-lightning<2.0.0,>=1.2.4->pytorch-forecasting) (0.7.3)\n",
      "Requirement already satisfied: fsspec[http]!=2021.06.0,>=2021.05.0 in c:\\users\\mohamed\\anaconda3\\lib\\site-packages (from pytorch-lightning<2.0.0,>=1.2.4->pytorch-forecasting) (2022.5.0)\n",
      "Requirement already satisfied: tensorboard>=2.2.0 in c:\\users\\mohamed\\anaconda3\\lib\\site-packages (from pytorch-lightning<2.0.0,>=1.2.4->pytorch-forecasting) (2.9.1)\n",
      "Requirement already satisfied: protobuf<=3.20.1 in c:\\users\\mohamed\\anaconda3\\lib\\site-packages (from pytorch-lightning<2.0.0,>=1.2.4->pytorch-forecasting) (3.18.1)\n",
      "Requirement already satisfied: joblib>=0.11 in c:\\users\\mohamed\\anaconda3\\lib\\site-packages (from scikit-learn<1.2,>=0.24->pytorch-forecasting) (1.0.1)\n",
      "Requirement already satisfied: threadpoolctl>=2.0.0 in c:\\users\\mohamed\\anaconda3\\lib\\site-packages (from scikit-learn<1.2,>=0.24->pytorch-forecasting) (2.1.0)\n",
      "Requirement already satisfied: fonttools>=4.22.0 in c:\\users\\mohamed\\anaconda3\\lib\\site-packages (from matplotlib->pytorch-forecasting) (4.32.0)\n",
      "Requirement already satisfied: kiwisolver>=1.0.1 in c:\\users\\mohamed\\anaconda3\\lib\\site-packages (from matplotlib->pytorch-forecasting) (1.3.1)\n",
      "Requirement already satisfied: pillow>=6.2.0 in c:\\users\\mohamed\\anaconda3\\lib\\site-packages (from matplotlib->pytorch-forecasting) (9.0.1)\n",
      "Requirement already satisfied: pyparsing>=2.2.1 in c:\\users\\mohamed\\anaconda3\\lib\\site-packages (from matplotlib->pytorch-forecasting) (2.4.7)\n",
      "Requirement already satisfied: cycler>=0.10 in c:\\users\\mohamed\\anaconda3\\lib\\site-packages (from matplotlib->pytorch-forecasting) (0.10.0)\n",
      "Requirement already satisfied: patsy>=0.5 in c:\\users\\mohamed\\anaconda3\\lib\\site-packages (from statsmodels->pytorch-forecasting) (0.5.1)\n",
      "Requirement already satisfied: six in c:\\users\\mohamed\\anaconda3\\lib\\site-packages (from cycler>=0.10->matplotlib->pytorch-forecasting) (1.15.0)\n"
     ]
    },
    {
     "name": "stderr",
     "output_type": "stream",
     "text": [
      "WARNING: Ignoring invalid distribution -cipy (c:\\users\\mohamed\\anaconda3\\lib\\site-packages)\n",
      "WARNING: Ignoring invalid distribution -cipy (c:\\users\\mohamed\\anaconda3\\lib\\site-packages)\n",
      "WARNING: Ignoring invalid distribution -cipy (c:\\users\\mohamed\\anaconda3\\lib\\site-packages)\n",
      "ERROR: pip's dependency resolver does not currently take into account all the packages that are installed. This behaviour is the source of the following dependency conflicts.\n",
      "sktime 0.11.4 requires scipy<1.9.0, but you have scipy 1.9.1 which is incompatible.\n",
      "autogluon-timeseries 0.5.1 requires scipy<1.8.0,>=1.5.4, but you have scipy 1.9.1 which is incompatible.\n",
      "autogluon-tabular 0.5.1 requires scipy<1.8.0,>=1.5.4, but you have scipy 1.9.1 which is incompatible.\n",
      "autogluon-multimodal 0.5.1 requires scipy<1.8.0,>=1.5.4, but you have scipy 1.9.1 which is incompatible.\n",
      "autogluon-core 0.5.1 requires scipy<1.8.0,>=1.5.4, but you have scipy 1.9.1 which is incompatible.\n",
      "WARNING: Ignoring invalid distribution -cipy (c:\\users\\mohamed\\anaconda3\\lib\\site-packages)\n",
      "WARNING: Ignoring invalid distribution -cipy (c:\\users\\mohamed\\anaconda3\\lib\\site-packages)\n",
      "WARNING: Ignoring invalid distribution -cipy (c:\\users\\mohamed\\anaconda3\\lib\\site-packages)\n"
     ]
    },
    {
     "name": "stdout",
     "output_type": "stream",
     "text": [
      "Requirement already satisfied: requests in c:\\users\\mohamed\\anaconda3\\lib\\site-packages (from fsspec[http]!=2021.06.0,>=2021.05.0->pytorch-lightning<2.0.0,>=1.2.4->pytorch-forecasting) (2.28.1)\n",
      "Requirement already satisfied: aiohttp in c:\\users\\mohamed\\anaconda3\\lib\\site-packages (from fsspec[http]!=2021.06.0,>=2021.05.0->pytorch-lightning<2.0.0,>=1.2.4->pytorch-forecasting) (3.8.1)\n",
      "Requirement already satisfied: greenlet!=0.4.17 in c:\\users\\mohamed\\anaconda3\\lib\\site-packages (from sqlalchemy>=1.1.0->optuna<3.0.0,>=2.3.0->pytorch-forecasting) (1.0.0)\n",
      "Requirement already satisfied: google-auth-oauthlib<0.5,>=0.4.1 in c:\\users\\mohamed\\anaconda3\\lib\\site-packages (from tensorboard>=2.2.0->pytorch-lightning<2.0.0,>=1.2.4->pytorch-forecasting) (0.4.6)\n",
      "Requirement already satisfied: markdown>=2.6.8 in c:\\users\\mohamed\\anaconda3\\lib\\site-packages (from tensorboard>=2.2.0->pytorch-lightning<2.0.0,>=1.2.4->pytorch-forecasting) (3.3.7)\n",
      "Requirement already satisfied: tensorboard-data-server<0.7.0,>=0.6.0 in c:\\users\\mohamed\\anaconda3\\lib\\site-packages (from tensorboard>=2.2.0->pytorch-lightning<2.0.0,>=1.2.4->pytorch-forecasting) (0.6.1)\n",
      "Requirement already satisfied: tensorboard-plugin-wit>=1.6.0 in c:\\users\\mohamed\\anaconda3\\lib\\site-packages (from tensorboard>=2.2.0->pytorch-lightning<2.0.0,>=1.2.4->pytorch-forecasting) (1.8.1)\n",
      "Requirement already satisfied: grpcio>=1.24.3 in c:\\users\\mohamed\\anaconda3\\lib\\site-packages (from tensorboard>=2.2.0->pytorch-lightning<2.0.0,>=1.2.4->pytorch-forecasting) (1.43.0)\n",
      "Requirement already satisfied: setuptools>=41.0.0 in c:\\users\\mohamed\\anaconda3\\lib\\site-packages (from tensorboard>=2.2.0->pytorch-lightning<2.0.0,>=1.2.4->pytorch-forecasting) (63.2.0)\n",
      "Requirement already satisfied: wheel>=0.26 in c:\\users\\mohamed\\anaconda3\\lib\\site-packages (from tensorboard>=2.2.0->pytorch-lightning<2.0.0,>=1.2.4->pytorch-forecasting) (0.37.1)\n",
      "Requirement already satisfied: werkzeug>=1.0.1 in c:\\users\\mohamed\\anaconda3\\lib\\site-packages (from tensorboard>=2.2.0->pytorch-lightning<2.0.0,>=1.2.4->pytorch-forecasting) (1.0.1)\n",
      "Requirement already satisfied: absl-py>=0.4 in c:\\users\\mohamed\\anaconda3\\lib\\site-packages (from tensorboard>=2.2.0->pytorch-lightning<2.0.0,>=1.2.4->pytorch-forecasting) (1.1.0)\n",
      "Requirement already satisfied: google-auth<3,>=1.6.3 in c:\\users\\mohamed\\anaconda3\\lib\\site-packages (from tensorboard>=2.2.0->pytorch-lightning<2.0.0,>=1.2.4->pytorch-forecasting) (2.8.0)\n",
      "Collecting Mako\n",
      "  Using cached Mako-1.2.2-py3-none-any.whl (78 kB)\n",
      "Collecting importlib-resources\n",
      "  Using cached importlib_resources-5.9.0-py3-none-any.whl (33 kB)\n",
      "Requirement already satisfied: importlib-metadata in c:\\users\\mohamed\\anaconda3\\lib\\site-packages (from alembic->optuna<3.0.0,>=2.3.0->pytorch-forecasting) (4.11.4)\n",
      "Collecting stevedore>=2.0.1\n",
      "  Using cached stevedore-4.0.0-py3-none-any.whl (49 kB)\n",
      "Requirement already satisfied: PrettyTable>=0.7.2 in c:\\users\\mohamed\\anaconda3\\lib\\site-packages (from cliff->optuna<3.0.0,>=2.3.0->pytorch-forecasting) (0.7.2)\n",
      "Collecting autopage>=0.4.0\n",
      "  Using cached autopage-0.5.1-py3-none-any.whl (29 kB)\n",
      "Collecting cmd2>=1.0.0\n",
      "  Using cached cmd2-2.4.2-py3-none-any.whl (147 kB)\n",
      "Requirement already satisfied: colorama in c:\\users\\mohamed\\anaconda3\\lib\\site-packages (from colorlog->optuna<3.0.0,>=2.3.0->pytorch-forecasting) (0.4.4)\n",
      "Requirement already satisfied: pyreadline3 in c:\\users\\mohamed\\anaconda3\\lib\\site-packages (from cmd2>=1.0.0->cliff->optuna<3.0.0,>=2.3.0->pytorch-forecasting) (3.4.1)\n",
      "Requirement already satisfied: attrs>=16.3.0 in c:\\users\\mohamed\\anaconda3\\lib\\site-packages (from cmd2>=1.0.0->cliff->optuna<3.0.0,>=2.3.0->pytorch-forecasting) (20.3.0)\n",
      "Requirement already satisfied: wcwidth>=0.1.7 in c:\\users\\mohamed\\anaconda3\\lib\\site-packages (from cmd2>=1.0.0->cliff->optuna<3.0.0,>=2.3.0->pytorch-forecasting) (0.2.5)\n",
      "Requirement already satisfied: pyperclip>=1.6 in c:\\users\\mohamed\\anaconda3\\lib\\site-packages (from cmd2>=1.0.0->cliff->optuna<3.0.0,>=2.3.0->pytorch-forecasting) (1.8.2)\n",
      "Requirement already satisfied: pyasn1-modules>=0.2.1 in c:\\users\\mohamed\\anaconda3\\lib\\site-packages (from google-auth<3,>=1.6.3->tensorboard>=2.2.0->pytorch-lightning<2.0.0,>=1.2.4->pytorch-forecasting) (0.2.8)\n",
      "Requirement already satisfied: rsa<5,>=3.1.4 in c:\\users\\mohamed\\anaconda3\\lib\\site-packages (from google-auth<3,>=1.6.3->tensorboard>=2.2.0->pytorch-lightning<2.0.0,>=1.2.4->pytorch-forecasting) (4.8)\n",
      "Requirement already satisfied: cachetools<6.0,>=2.0.0 in c:\\users\\mohamed\\anaconda3\\lib\\site-packages (from google-auth<3,>=1.6.3->tensorboard>=2.2.0->pytorch-lightning<2.0.0,>=1.2.4->pytorch-forecasting) (5.2.0)\n",
      "Requirement already satisfied: requests-oauthlib>=0.7.0 in c:\\users\\mohamed\\anaconda3\\lib\\site-packages (from google-auth-oauthlib<0.5,>=0.4.1->tensorboard>=2.2.0->pytorch-lightning<2.0.0,>=1.2.4->pytorch-forecasting) (1.3.1)\n",
      "Requirement already satisfied: zipp>=0.5 in c:\\users\\mohamed\\anaconda3\\lib\\site-packages (from importlib-metadata->alembic->optuna<3.0.0,>=2.3.0->pytorch-forecasting) (3.4.1)\n",
      "Requirement already satisfied: idna<4,>=2.5 in c:\\users\\mohamed\\anaconda3\\lib\\site-packages (from requests->fsspec[http]!=2021.06.0,>=2021.05.0->pytorch-lightning<2.0.0,>=1.2.4->pytorch-forecasting) (2.6)\n",
      "Requirement already satisfied: urllib3<1.27,>=1.21.1 in c:\\users\\mohamed\\anaconda3\\lib\\site-packages (from requests->fsspec[http]!=2021.06.0,>=2021.05.0->pytorch-lightning<2.0.0,>=1.2.4->pytorch-forecasting) (1.26.11)\n",
      "Requirement already satisfied: charset-normalizer<3,>=2 in c:\\users\\mohamed\\anaconda3\\lib\\site-packages (from requests->fsspec[http]!=2021.06.0,>=2021.05.0->pytorch-lightning<2.0.0,>=1.2.4->pytorch-forecasting) (2.0.12)\n",
      "Requirement already satisfied: certifi>=2017.4.17 in c:\\users\\mohamed\\anaconda3\\lib\\site-packages (from requests->fsspec[http]!=2021.06.0,>=2021.05.0->pytorch-lightning<2.0.0,>=1.2.4->pytorch-forecasting) (2021.10.8)\n",
      "Collecting pbr!=2.1.0,>=2.0.0\n",
      "  Using cached pbr-5.10.0-py2.py3-none-any.whl (112 kB)\n",
      "Requirement already satisfied: aiosignal>=1.1.2 in c:\\users\\mohamed\\anaconda3\\lib\\site-packages (from aiohttp->fsspec[http]!=2021.06.0,>=2021.05.0->pytorch-lightning<2.0.0,>=1.2.4->pytorch-forecasting) (1.2.0)\n",
      "Requirement already satisfied: async-timeout<5.0,>=4.0.0a3 in c:\\users\\mohamed\\anaconda3\\lib\\site-packages (from aiohttp->fsspec[http]!=2021.06.0,>=2021.05.0->pytorch-lightning<2.0.0,>=1.2.4->pytorch-forecasting) (4.0.2)\n",
      "Requirement already satisfied: multidict<7.0,>=4.5 in c:\\users\\mohamed\\anaconda3\\lib\\site-packages (from aiohttp->fsspec[http]!=2021.06.0,>=2021.05.0->pytorch-lightning<2.0.0,>=1.2.4->pytorch-forecasting) (6.0.2)\n",
      "Requirement already satisfied: frozenlist>=1.1.1 in c:\\users\\mohamed\\anaconda3\\lib\\site-packages (from aiohttp->fsspec[http]!=2021.06.0,>=2021.05.0->pytorch-lightning<2.0.0,>=1.2.4->pytorch-forecasting) (1.3.0)\n",
      "Requirement already satisfied: yarl<2.0,>=1.0 in c:\\users\\mohamed\\anaconda3\\lib\\site-packages (from aiohttp->fsspec[http]!=2021.06.0,>=2021.05.0->pytorch-lightning<2.0.0,>=1.2.4->pytorch-forecasting) (1.7.2)\n",
      "Requirement already satisfied: MarkupSafe>=0.9.2 in c:\\users\\mohamed\\anaconda3\\lib\\site-packages (from Mako->alembic->optuna<3.0.0,>=2.3.0->pytorch-forecasting) (1.1.1)\n",
      "Requirement already satisfied: pyasn1<0.5.0,>=0.4.6 in c:\\users\\mohamed\\anaconda3\\lib\\site-packages (from pyasn1-modules>=0.2.1->google-auth<3,>=1.6.3->tensorboard>=2.2.0->pytorch-lightning<2.0.0,>=1.2.4->pytorch-forecasting) (0.4.8)\n",
      "Requirement already satisfied: oauthlib>=3.0.0 in c:\\users\\mohamed\\anaconda3\\lib\\site-packages (from requests-oauthlib>=0.7.0->google-auth-oauthlib<0.5,>=0.4.1->tensorboard>=2.2.0->pytorch-lightning<2.0.0,>=1.2.4->pytorch-forecasting) (3.2.0)\n",
      "Installing collected packages: scipy, pbr, Mako, importlib-resources, colorlog, cmd2, cmaes, autopage, stevedore, alembic, cliff, optuna, pytorch-forecasting\n",
      "Successfully installed Mako-1.2.2 alembic-1.8.1 autopage-0.5.1 cliff-4.0.0 cmaes-0.8.2 cmd2-2.4.2 colorlog-6.7.0 importlib-resources-5.9.0 optuna-2.10.1 pbr-5.10.0 pytorch-forecasting-0.10.3 scipy-1.9.1 stevedore-4.0.0\n",
      "\n",
      "[notice] A new release of pip available: 22.2 -> 22.2.2\n",
      "[notice] To update, run: python.exe -m pip install --upgrade pip\n"
     ]
    }
   ],
   "source": [
    "!pip install pytorch-forecasting"
   ]
  },
  {
   "cell_type": "code",
   "execution_count": 3,
   "id": "1eb9ad82",
   "metadata": {},
   "outputs": [],
   "source": [
    "from pytorch_forecasting.metrics import DistributionLoss"
   ]
  },
  {
   "cell_type": "code",
   "execution_count": 4,
   "id": "3f0993e4",
   "metadata": {},
   "outputs": [],
   "source": [
    "from pytorch_forecasting.metrics import MultivariateNormalDistributionLoss"
   ]
  },
  {
   "cell_type": "code",
   "execution_count": 5,
   "id": "7b84efa8",
   "metadata": {},
   "outputs": [],
   "source": [
    "import os\n",
    "import random\n",
    "import numpy as np\n",
    "import pandas as pd\n",
    "import tensorflow as tf\n",
    "from tensorflow import keras\n",
    "from tensorflow.keras import backend as K\n",
    "from tensorflow.keras.layers import Dense, Dropout, Flatten, Conv2D, MaxPool2D, Input\n",
    "from tensorflow.keras.models import Sequential, load_model\n",
    "from tensorflow.keras.callbacks import ModelCheckpoint\n",
    "from sklearn.preprocessing import StandardScaler\n",
    "from sklearn.metrics import accuracy_score, f1_score, mean_absolute_error,mean_squared_error\n",
    "from tensorflow.keras import layers"
   ]
  },
  {
   "cell_type": "code",
   "execution_count": 6,
   "id": "f6d5bbd0",
   "metadata": {},
   "outputs": [],
   "source": [
    "import torch\n",
    "import pytorch_lightning as pl\n",
    "import matplotlib.pyplot as plt\n",
    "from pytorch_forecasting import Baseline, DeepAR, TimeSeriesDataSet\n",
    "from pytorch_lightning.callbacks import EarlyStopping"
   ]
  },
  {
   "cell_type": "code",
   "execution_count": 12,
   "id": "806db44e",
   "metadata": {},
   "outputs": [],
   "source": [
    "DATADIR = \"\"\n",
    "TRAIN_TEST_CUTOFF = '2016-04-21'\n",
    "TRAIN_VALID_RATIO = 0.75\n",
    "\n",
    "\n",
    "# https://datascience.stackexchange.com/questions/45165/how-to-get-accuracy-f1-precision-and-recall-for-a-keras-model\n",
    "# to implement F1 score for validation in a batch\n",
    "def recall_m(y_true, y_pred):\n",
    "    true_positives = K.sum(K.round(K.clip(y_true * y_pred, 0, 1)))\n",
    "    possible_positives = K.sum(K.round(K.clip(y_true, 0, 1)))\n",
    "    recall = true_positives / (possible_positives + K.epsilon())\n",
    "    return recall\n",
    "\n",
    "def precision_m(y_true, y_pred):\n",
    "    true_positives = K.sum(K.round(K.clip(y_true * y_pred, 0, 1)))\n",
    "    predicted_positives = K.sum(K.round(K.clip(y_pred, 0, 1)))\n",
    "    precision = true_positives / (predicted_positives + K.epsilon())\n",
    "    return precision\n",
    "\n",
    "def f1_m(y_true, y_pred):\n",
    "    precision = precision_m(y_true, y_pred)\n",
    "    recall = recall_m(y_true, y_pred)\n",
    "    return 2*((precision*recall)/(precision+recall+K.epsilon()))\n",
    "\n",
    "def f1macro(y_true, y_pred):\n",
    "    f_pos = f1_m(y_true, y_pred)\n",
    "    # negative version of the data and prediction\n",
    "    f_neg = f1_m(1-y_true, 1-K.clip(y_pred,0,1))\n",
    "    return (f_pos + f_neg)/2\n",
    "\n",
    "def root_mean_squared_error(y_true, y_pred):\n",
    "        return K.sqrt(K.mean(K.square(y_pred - y_true)))     \n",
    "\n",
    "\n",
    "def datagen(data,key):\n",
    "    \"As a generator to produce samples for Keras model\"\n",
    "    df = data[key]\n",
    "    index = df.index[df.index < TRAIN_TEST_CUTOFF]\n",
    "    split = len(index)\n",
    "\n",
    "    train = df.iloc[:split,:]\n",
    "    test = df.iloc[split:,:]\n",
    "    \n",
    "\n",
    "    return train,test\n",
    "\n",
    "\n",
    "\n",
    "\n",
    "# Read data into pandas DataFrames\n",
    "data = {}\n",
    "for filename in os.listdir(r'E:\\Upwork2'):\n",
    "    if not filename.lower().endswith(\".csv\"):\n",
    "        continue # read only the CSV files\n",
    "    filepath = os.path.join('', filename)\n",
    "    X = pd.read_csv(filepath, index_col=\"Date\", parse_dates=True)\n",
    "    # basic preprocessing: get the name, the classification\n",
    "    # Save the target variable as a column in dataframe for easier dropna()\n",
    "    name = X[\"Name\"][0]\n",
    "    del X[\"Name\"]\n",
    "    cols = X.columns\n",
    "    X[\"Target\"] = (X[\"Close\"].pct_change().shift(-1) > 0).astype(int)\n",
    "    X.dropna(inplace=True)\n",
    "    # Fit the standard scaler using the training dataset\n",
    "    index = X.index[X.index < TRAIN_TEST_CUTOFF]\n",
    "    #index = index[:int(len(index) * TRAIN_VALID_RATIO)]\n",
    "    scaler = StandardScaler().fit(X.loc[index, cols])\n",
    "    # Save scale transformed dataframe\n",
    "    X[cols] = scaler.transform(X[cols])\n",
    "    data[name] = X"
   ]
  },
  {
   "cell_type": "code",
   "execution_count": 13,
   "id": "d9ba6a6c",
   "metadata": {},
   "outputs": [],
   "source": [
    "train, test = datagen(data,'DJI')"
   ]
  },
  {
   "cell_type": "code",
   "execution_count": 14,
   "id": "918bc43e",
   "metadata": {},
   "outputs": [
    {
     "name": "stderr",
     "output_type": "stream",
     "text": [
      "<ipython-input-14-6fd22bfab0af>:1: SettingWithCopyWarning: \n",
      "A value is trying to be set on a copy of a slice from a DataFrame.\n",
      "Try using .loc[row_indexer,col_indexer] = value instead\n",
      "\n",
      "See the caveats in the documentation: https://pandas.pydata.org/pandas-docs/stable/user_guide/indexing.html#returning-a-view-versus-a-copy\n",
      "  train['Target'] = train['Target'].astype('float')\n"
     ]
    }
   ],
   "source": [
    "train['Target'] = train['Target'].astype('float')"
   ]
  },
  {
   "cell_type": "code",
   "execution_count": 15,
   "id": "a06d097a",
   "metadata": {},
   "outputs": [
    {
     "data": {
      "text/plain": [
       "True"
      ]
     },
     "execution_count": 15,
     "metadata": {},
     "output_type": "execute_result"
    }
   ],
   "source": [
    "len(train) == train.index.nunique()"
   ]
  },
  {
   "cell_type": "code",
   "execution_count": 16,
   "id": "ecd2727c",
   "metadata": {},
   "outputs": [
    {
     "name": "stderr",
     "output_type": "stream",
     "text": [
      "<ipython-input-16-832ec9ece5cd>:1: SettingWithCopyWarning: \n",
      "A value is trying to be set on a copy of a slice from a DataFrame.\n",
      "Try using .loc[row_indexer,col_indexer] = value instead\n",
      "\n",
      "See the caveats in the documentation: https://pandas.pydata.org/pandas-docs/stable/user_guide/indexing.html#returning-a-view-versus-a-copy\n",
      "  train[\"time_idx\"] = np.arange(len(train))\n"
     ]
    }
   ],
   "source": [
    "train[\"time_idx\"] = np.arange(len(train))"
   ]
  },
  {
   "cell_type": "code",
   "execution_count": 17,
   "id": "393c05e8",
   "metadata": {},
   "outputs": [],
   "source": [
    "#train_columns = list(train.columns[:-2])\n",
    "max_encoder_length = 60 # days\n",
    "max_prediction_length = 100 # 20 days\n",
    "training_cutoff = train[\"time_idx\"].max() - max_prediction_length"
   ]
  },
  {
   "cell_type": "code",
   "execution_count": 18,
   "id": "22adfca6",
   "metadata": {},
   "outputs": [
    {
     "name": "stderr",
     "output_type": "stream",
     "text": [
      "<ipython-input-18-ba80443b5d35>:1: SettingWithCopyWarning: \n",
      "A value is trying to be set on a copy of a slice from a DataFrame.\n",
      "Try using .loc[row_indexer,col_indexer] = value instead\n",
      "\n",
      "See the caveats in the documentation: https://pandas.pydata.org/pandas-docs/stable/user_guide/indexing.html#returning-a-view-versus-a-copy\n",
      "  train['Market'] = np.repeat('1',len(train))\n"
     ]
    }
   ],
   "source": [
    "train['Market'] = np.repeat('1',len(train))"
   ]
  },
  {
   "cell_type": "code",
   "execution_count": 19,
   "id": "a4e43d80",
   "metadata": {},
   "outputs": [],
   "source": [
    "train_columns = list(train.columns[:-2])"
   ]
  },
  {
   "cell_type": "code",
   "execution_count": 26,
   "id": "f8e0c6d9",
   "metadata": {},
   "outputs": [],
   "source": [
    "training = TimeSeriesDataSet(\n",
    "    train[lambda x: x.time_idx <= training_cutoff],\n",
    "    time_idx=\"time_idx\",\n",
    "    target=\"Target\",\n",
    "    static_categoricals=['Market'],\n",
    "    group_ids=['Market'], # list of column names identifying a time series.\n",
    "    max_encoder_length=max_encoder_length,\n",
    "    max_prediction_length=max_prediction_length,\n",
    "    time_varying_unknown_reals= ['Target'],\n",
    ")"
   ]
  },
  {
   "cell_type": "code",
   "execution_count": 27,
   "id": "1c8467f1",
   "metadata": {},
   "outputs": [],
   "source": [
    "validation = TimeSeriesDataSet.from_dataset(training, train, min_prediction_idx=training_cutoff + 1)"
   ]
  },
  {
   "cell_type": "code",
   "execution_count": 28,
   "id": "8908b08c",
   "metadata": {},
   "outputs": [],
   "source": [
    "batch_size = 128\n",
    "train_dataloader = training.to_dataloader(\n",
    "    train=True, batch_size=batch_size, num_workers=0\n",
    ")\n",
    "val_dataloader = validation.to_dataloader(\n",
    "    train=False, batch_size=batch_size, num_workers=0\n",
    ")"
   ]
  },
  {
   "cell_type": "code",
   "execution_count": 29,
   "id": "8e9db3e4",
   "metadata": {},
   "outputs": [
    {
     "name": "stderr",
     "output_type": "stream",
     "text": [
      "Global seed set to 42\n"
     ]
    },
    {
     "data": {
      "text/plain": [
       "42"
      ]
     },
     "execution_count": 29,
     "metadata": {},
     "output_type": "execute_result"
    }
   ],
   "source": [
    "pl.seed_everything(42)"
   ]
  },
  {
   "cell_type": "code",
   "execution_count": 30,
   "id": "2d3908ba",
   "metadata": {},
   "outputs": [
    {
     "name": "stderr",
     "output_type": "stream",
     "text": [
      "C:\\Users\\Mohamed\\anaconda3\\lib\\site-packages\\pytorch_lightning\\utilities\\parsing.py:261: UserWarning: Attribute 'loss' is an instance of `nn.Module` and is already saved during checkpointing. It is recommended to ignore them using `self.save_hyperparameters(ignore=['loss'])`.\n",
      "  rank_zero_warn(\n",
      "C:\\Users\\Mohamed\\anaconda3\\lib\\site-packages\\pytorch_lightning\\utilities\\parsing.py:261: UserWarning: Attribute 'logging_metrics' is an instance of `nn.Module` and is already saved during checkpointing. It is recommended to ignore them using `self.save_hyperparameters(ignore=['logging_metrics'])`.\n",
      "  rank_zero_warn(\n"
     ]
    }
   ],
   "source": [
    "net = DeepAR.from_dataset(\n",
    "    training,\n",
    "    learning_rate=3e-2,\n",
    "    hidden_size=30,\n",
    "    rnn_layers=2,\n",
    "    loss=MultivariateNormalDistributionLoss(rank=30)\n",
    ")"
   ]
  },
  {
   "cell_type": "code",
   "execution_count": 35,
   "id": "a7f6ccc7",
   "metadata": {},
   "outputs": [
    {
     "name": "stderr",
     "output_type": "stream",
     "text": [
      "C:\\Users\\Mohamed\\anaconda3\\lib\\site-packages\\pytorch_lightning\\loops\\utilities.py:92: PossibleUserWarning: `max_epochs` was not set. Setting it to 1000 epochs. To train without an epoch limit, set `max_epochs=-1`.\n",
      "  rank_zero_warn(\n",
      "GPU available: False, used: False\n",
      "TPU available: False, using: 0 TPU cores\n",
      "IPU available: False, using: 0 IPUs\n",
      "HPU available: False, using: 0 HPUs\n"
     ]
    }
   ],
   "source": [
    "trainer = pl.Trainer(\n",
    "    gradient_clip_val=0.1,\n",
    ")"
   ]
  },
  {
   "cell_type": "code",
   "execution_count": 36,
   "id": "bf231a22",
   "metadata": {},
   "outputs": [
    {
     "name": "stderr",
     "output_type": "stream",
     "text": [
      "C:\\Users\\Mohamed\\anaconda3\\lib\\site-packages\\pytorch_lightning\\trainer\\connectors\\data_connector.py:240: PossibleUserWarning: The dataloader, val_dataloader 0, does not have many workers which may be a bottleneck. Consider increasing the value of the `num_workers` argument` (try 4 which is the number of cpus on this machine) in the `DataLoader` init to improve performance.\n",
      "  rank_zero_warn(\n",
      "C:\\Users\\Mohamed\\anaconda3\\lib\\site-packages\\pytorch_lightning\\trainer\\connectors\\data_connector.py:240: PossibleUserWarning: The dataloader, train_dataloader, does not have many workers which may be a bottleneck. Consider increasing the value of the `num_workers` argument` (try 4 which is the number of cpus on this machine) in the `DataLoader` init to improve performance.\n",
      "  rank_zero_warn(\n",
      "C:\\Users\\Mohamed\\anaconda3\\lib\\site-packages\\pytorch_lightning\\trainer\\trainer.py:1933: PossibleUserWarning: The number of training batches (5) is smaller than the logging interval Trainer(log_every_n_steps=50). Set a lower value for log_every_n_steps if you want to see logs for the training epoch.\n",
      "  rank_zero_warn(\n"
     ]
    },
    {
     "data": {
      "application/vnd.jupyter.widget-view+json": {
       "model_id": "e15e4033242c4cf19246f17d9b4296f7",
       "version_major": 2,
       "version_minor": 0
      },
      "text/plain": [
       "Finding best initial lr:   0%|          | 0/100 [00:00<?, ?it/s]"
      ]
     },
     "metadata": {},
     "output_type": "display_data"
    },
    {
     "name": "stderr",
     "output_type": "stream",
     "text": [
      "Restoring states from the checkpoint path at E:\\Upwork2\\.lr_find_efa2ec9d-65b5-47a6-85be-5305593763a3.ckpt\n"
     ]
    }
   ],
   "source": [
    "res = trainer.tuner.lr_find(\n",
    "    net,\n",
    "    train_dataloaders=train_dataloader,\n",
    "    val_dataloaders=val_dataloader,\n",
    "    min_lr=1e-5,\n",
    "    max_lr=1e0,\n",
    "    early_stop_threshold=100,\n",
    ")"
   ]
  },
  {
   "cell_type": "code",
   "execution_count": 37,
   "id": "92a725a1",
   "metadata": {},
   "outputs": [
    {
     "data": {
      "image/png": "[encoded data removed]",
      "text/plain": [
       "<Figure size 432x288 with 1 Axes>"
      ]
     },
     "metadata": {
      "needs_background": "light"
     },
     "output_type": "display_data"
    },
    {
     "name": "stderr",
     "output_type": "stream",
     "text": [
      "<ipython-input-37-6043caf6ea9d>:2: UserWarning: Matplotlib is currently using module://ipykernel.pylab.backend_inline, which is a non-GUI backend, so cannot show the figure.\n",
      "  fig.show()\n"
     ]
    }
   ],
   "source": [
    "fig = res.plot(show=True, suggest=True)\n",
    "fig.show()"
   ]
  },
  {
   "cell_type": "code",
   "execution_count": 38,
   "id": "6c4b5052",
   "metadata": {},
   "outputs": [],
   "source": [
    "early_stop_callback = EarlyStopping(monitor=\"val_loss\", min_delta=1e-4, patience=10, verbose=False, mode=\"min\")"
   ]
  },
  {
   "cell_type": "code",
   "execution_count": 39,
   "id": "2743c02d",
   "metadata": {},
   "outputs": [
    {
     "name": "stderr",
     "output_type": "stream",
     "text": [
      "GPU available: False, used: False\n",
      "TPU available: False, using: 0 TPU cores\n",
      "IPU available: False, using: 0 IPUs\n",
      "HPU available: False, using: 0 HPUs\n"
     ]
    }
   ],
   "source": [
    "trainer = pl.Trainer(\n",
    "    max_epochs=30,\n",
    "    enable_model_summary=True,\n",
    "    gradient_clip_val=0.1,\n",
    "    callbacks=[early_stop_callback],\n",
    "    limit_train_batches=50,\n",
    "    enable_checkpointing=True,\n",
    ")"
   ]
  },
  {
   "cell_type": "code",
   "execution_count": 40,
   "id": "3db7814e",
   "metadata": {},
   "outputs": [],
   "source": [
    "net = DeepAR.from_dataset(\n",
    "    training,\n",
    "    learning_rate=0.7,\n",
    "    log_interval=10,\n",
    "    log_val_interval=1,\n",
    "    hidden_size=30,\n",
    "    rnn_layers=2,\n",
    "    loss=MultivariateNormalDistributionLoss(rank=30),\n",
    ")"
   ]
  },
  {
   "cell_type": "code",
   "execution_count": 41,
   "id": "c7eccfd0",
   "metadata": {},
   "outputs": [
    {
     "name": "stderr",
     "output_type": "stream",
     "text": [
      "Missing logger folder: E:\\Upwork2\\lightning_logs\n",
      "\n",
      "  | Name                   | Type                               | Params\n",
      "------------------------------------------------------------------------------\n",
      "0 | loss                   | MultivariateNormalDistributionLoss | 0     \n",
      "1 | logging_metrics        | ModuleList                         | 0     \n",
      "2 | embeddings             | MultiEmbedding                     | 1     \n",
      "3 | rnn                    | LSTM                               | 11.5 K\n",
      "4 | distribution_projector | Linear                             | 992   \n",
      "------------------------------------------------------------------------------\n",
      "12.5 K    Trainable params\n",
      "0         Non-trainable params\n",
      "12.5 K    Total params\n",
      "0.050     Total estimated model params size (MB)\n"
     ]
    },
    {
     "data": {
      "application/vnd.jupyter.widget-view+json": {
       "model_id": "",
       "version_major": 2,
       "version_minor": 0
      },
      "text/plain": [
       "Sanity Checking: 0it [00:00, ?it/s]"
      ]
     },
     "metadata": {},
     "output_type": "display_data"
    },
    {
     "name": "stderr",
     "output_type": "stream",
     "text": [
      "C:\\Users\\Mohamed\\anaconda3\\lib\\site-packages\\pytorch_lightning\\trainer\\connectors\\data_connector.py:240: PossibleUserWarning: The dataloader, train_dataloader, does not have many workers which may be a bottleneck. Consider increasing the value of the `num_workers` argument` (try 4 which is the number of cpus on this machine) in the `DataLoader` init to improve performance.\n",
      "  rank_zero_warn(\n",
      "C:\\Users\\Mohamed\\anaconda3\\lib\\site-packages\\pytorch_lightning\\trainer\\trainer.py:1933: PossibleUserWarning: The number of training batches (5) is smaller than the logging interval Trainer(log_every_n_steps=50). Set a lower value for log_every_n_steps if you want to see logs for the training epoch.\n",
      "  rank_zero_warn(\n"
     ]
    },
    {
     "data": {
      "application/vnd.jupyter.widget-view+json": {
       "model_id": "6b64d6e3a91d4f16b05bb14f733ce023",
       "version_major": 2,
       "version_minor": 0
      },
      "text/plain": [
       "Training: 0it [00:00, ?it/s]"
      ]
     },
     "metadata": {},
     "output_type": "display_data"
    },
    {
     "data": {
      "application/vnd.jupyter.widget-view+json": {
       "model_id": "",
       "version_major": 2,
       "version_minor": 0
      },
      "text/plain": [
       "Validation: 0it [00:00, ?it/s]"
      ]
     },
     "metadata": {},
     "output_type": "display_data"
    },
    {
     "data": {
      "application/vnd.jupyter.widget-view+json": {
       "model_id": "",
       "version_major": 2,
       "version_minor": 0
      },
      "text/plain": [
       "Validation: 0it [00:00, ?it/s]"
      ]
     },
     "metadata": {},
     "output_type": "display_data"
    },
    {
     "data": {
      "application/vnd.jupyter.widget-view+json": {
       "model_id": "",
       "version_major": 2,
       "version_minor": 0
      },
      "text/plain": [
       "Validation: 0it [00:00, ?it/s]"
      ]
     },
     "metadata": {},
     "output_type": "display_data"
    },
    {
     "data": {
      "application/vnd.jupyter.widget-view+json": {
       "model_id": "",
       "version_major": 2,
       "version_minor": 0
      },
      "text/plain": [
       "Validation: 0it [00:00, ?it/s]"
      ]
     },
     "metadata": {},
     "output_type": "display_data"
    },
    {
     "data": {
      "application/vnd.jupyter.widget-view+json": {
       "model_id": "",
       "version_major": 2,
       "version_minor": 0
      },
      "text/plain": [
       "Validation: 0it [00:00, ?it/s]"
      ]
     },
     "metadata": {},
     "output_type": "display_data"
    },
    {
     "data": {
      "application/vnd.jupyter.widget-view+json": {
       "model_id": "",
       "version_major": 2,
       "version_minor": 0
      },
      "text/plain": [
       "Validation: 0it [00:00, ?it/s]"
      ]
     },
     "metadata": {},
     "output_type": "display_data"
    },
    {
     "data": {
      "application/vnd.jupyter.widget-view+json": {
       "model_id": "",
       "version_major": 2,
       "version_minor": 0
      },
      "text/plain": [
       "Validation: 0it [00:00, ?it/s]"
      ]
     },
     "metadata": {},
     "output_type": "display_data"
    },
    {
     "data": {
      "application/vnd.jupyter.widget-view+json": {
       "model_id": "",
       "version_major": 2,
       "version_minor": 0
      },
      "text/plain": [
       "Validation: 0it [00:00, ?it/s]"
      ]
     },
     "metadata": {},
     "output_type": "display_data"
    },
    {
     "data": {
      "application/vnd.jupyter.widget-view+json": {
       "model_id": "",
       "version_major": 2,
       "version_minor": 0
      },
      "text/plain": [
       "Validation: 0it [00:00, ?it/s]"
      ]
     },
     "metadata": {},
     "output_type": "display_data"
    },
    {
     "data": {
      "application/vnd.jupyter.widget-view+json": {
       "model_id": "",
       "version_major": 2,
       "version_minor": 0
      },
      "text/plain": [
       "Validation: 0it [00:00, ?it/s]"
      ]
     },
     "metadata": {},
     "output_type": "display_data"
    },
    {
     "data": {
      "application/vnd.jupyter.widget-view+json": {
       "model_id": "",
       "version_major": 2,
       "version_minor": 0
      },
      "text/plain": [
       "Validation: 0it [00:00, ?it/s]"
      ]
     },
     "metadata": {},
     "output_type": "display_data"
    },
    {
     "data": {
      "application/vnd.jupyter.widget-view+json": {
       "model_id": "",
       "version_major": 2,
       "version_minor": 0
      },
      "text/plain": [
       "Validation: 0it [00:00, ?it/s]"
      ]
     },
     "metadata": {},
     "output_type": "display_data"
    },
    {
     "data": {
      "application/vnd.jupyter.widget-view+json": {
       "model_id": "",
       "version_major": 2,
       "version_minor": 0
      },
      "text/plain": [
       "Validation: 0it [00:00, ?it/s]"
      ]
     },
     "metadata": {},
     "output_type": "display_data"
    },
    {
     "data": {
      "application/vnd.jupyter.widget-view+json": {
       "model_id": "",
       "version_major": 2,
       "version_minor": 0
      },
      "text/plain": [
       "Validation: 0it [00:00, ?it/s]"
      ]
     },
     "metadata": {},
     "output_type": "display_data"
    }
   ],
   "source": [
    "trainer.fit(\n",
    "    net,\n",
    "    train_dataloaders=train_dataloader,\n",
    "    val_dataloaders=val_dataloader,\n",
    ")"
   ]
  },
  {
   "cell_type": "code",
   "execution_count": 42,
   "id": "716b1684",
   "metadata": {},
   "outputs": [
    {
     "name": "stderr",
     "output_type": "stream",
     "text": [
      "C:\\Users\\Mohamed\\anaconda3\\lib\\site-packages\\pytorch_lightning\\utilities\\parsing.py:261: UserWarning: Attribute 'loss' is an instance of `nn.Module` and is already saved during checkpointing. It is recommended to ignore them using `self.save_hyperparameters(ignore=['loss'])`.\n",
      "  rank_zero_warn(\n",
      "C:\\Users\\Mohamed\\anaconda3\\lib\\site-packages\\pytorch_lightning\\utilities\\parsing.py:261: UserWarning: Attribute 'logging_metrics' is an instance of `nn.Module` and is already saved during checkpointing. It is recommended to ignore them using `self.save_hyperparameters(ignore=['logging_metrics'])`.\n",
      "  rank_zero_warn(\n"
     ]
    }
   ],
   "source": [
    "best_model_path = trainer.checkpoint_callback.best_model_path\n",
    "best_model = DeepAR.load_from_checkpoint(best_model_path)"
   ]
  },
  {
   "cell_type": "code",
   "execution_count": 44,
   "id": "4e9f8aea",
   "metadata": {},
   "outputs": [],
   "source": [
    "from pytorch_forecasting.metrics import SMAPE"
   ]
  },
  {
   "cell_type": "code",
   "execution_count": 47,
   "id": "5c2363d4",
   "metadata": {},
   "outputs": [
    {
     "data": {
      "image/png": "[encoded data removed]",
      "text/plain": [
       "<Figure size 432x288 with 1 Axes>"
      ]
     },
     "execution_count": 47,
     "metadata": {},
     "output_type": "execute_result"
    },
    {
     "data": {
      "image/png": "[encoded data removed]",
      "text/plain": [
       "<Figure size 432x288 with 1 Axes>"
      ]
     },
     "metadata": {
      "needs_background": "light"
     },
     "output_type": "display_data"
    }
   ],
   "source": [
    "raw_predictions, x = best_model.predict(val_dataloader, mode=\"raw\", return_x=True)\n",
    "\n",
    "best_model.plot_prediction(\n",
    "        x,\n",
    "        raw_predictions,\n",
    "        idx=0,\n",
    "        add_loss_to_title=SMAPE()\n",
    "    )"
   ]
  },
  {
   "cell_type": "code",
   "execution_count": 60,
   "id": "e3942aa3",
   "metadata": {},
   "outputs": [
    {
     "data": {
      "text/plain": [
       "{'encoder_cat': tensor([[[0],\n",
       "          [0],\n",
       "          [0],\n",
       "          [0],\n",
       "          [0],\n",
       "          [0],\n",
       "          [0],\n",
       "          [0],\n",
       "          [0],\n",
       "          [0],\n",
       "          [0],\n",
       "          [0],\n",
       "          [0],\n",
       "          [0],\n",
       "          [0],\n",
       "          [0],\n",
       "          [0],\n",
       "          [0],\n",
       "          [0],\n",
       "          [0],\n",
       "          [0],\n",
       "          [0],\n",
       "          [0],\n",
       "          [0],\n",
       "          [0],\n",
       "          [0],\n",
       "          [0],\n",
       "          [0],\n",
       "          [0],\n",
       "          [0],\n",
       "          [0],\n",
       "          [0],\n",
       "          [0],\n",
       "          [0],\n",
       "          [0],\n",
       "          [0],\n",
       "          [0],\n",
       "          [0],\n",
       "          [0],\n",
       "          [0],\n",
       "          [0],\n",
       "          [0],\n",
       "          [0],\n",
       "          [0],\n",
       "          [0],\n",
       "          [0],\n",
       "          [0],\n",
       "          [0],\n",
       "          [0],\n",
       "          [0],\n",
       "          [0],\n",
       "          [0],\n",
       "          [0],\n",
       "          [0],\n",
       "          [0],\n",
       "          [0],\n",
       "          [0],\n",
       "          [0],\n",
       "          [0],\n",
       "          [0]]]),\n",
       " 'encoder_cont': tensor([[[ 1.0253],\n",
       "          [ 1.0253],\n",
       "          [ 1.0253],\n",
       "          [-0.9591],\n",
       "          [ 1.0253],\n",
       "          [ 1.0253],\n",
       "          [-0.9591],\n",
       "          [ 1.0253],\n",
       "          [-0.9591],\n",
       "          [-0.9591],\n",
       "          [-0.9591],\n",
       "          [ 1.0253],\n",
       "          [-0.9591],\n",
       "          [-0.9591],\n",
       "          [ 1.0253],\n",
       "          [ 1.0253],\n",
       "          [-0.9591],\n",
       "          [ 1.0253],\n",
       "          [ 1.0253],\n",
       "          [-0.9591],\n",
       "          [-0.9591],\n",
       "          [ 1.0253],\n",
       "          [ 1.0253],\n",
       "          [ 1.0253],\n",
       "          [-0.9591],\n",
       "          [ 1.0253],\n",
       "          [ 1.0253],\n",
       "          [-0.9591],\n",
       "          [ 1.0253],\n",
       "          [-0.9591],\n",
       "          [-0.9591],\n",
       "          [-0.9591],\n",
       "          [-0.9591],\n",
       "          [ 1.0253],\n",
       "          [-0.9591],\n",
       "          [-0.9591],\n",
       "          [-0.9591],\n",
       "          [-0.9591],\n",
       "          [-0.9591],\n",
       "          [-0.9591],\n",
       "          [ 1.0253],\n",
       "          [ 1.0253],\n",
       "          [-0.9591],\n",
       "          [-0.9591],\n",
       "          [-0.9591],\n",
       "          [ 1.0253],\n",
       "          [ 1.0253],\n",
       "          [-0.9591],\n",
       "          [ 1.0253],\n",
       "          [ 1.0253],\n",
       "          [ 1.0253],\n",
       "          [ 1.0253],\n",
       "          [-0.9591],\n",
       "          [-0.9591],\n",
       "          [-0.9591],\n",
       "          [ 1.0253],\n",
       "          [-0.9591],\n",
       "          [-0.9591],\n",
       "          [ 1.0253],\n",
       "          [ 1.0253]]]),\n",
       " 'encoder_target': tensor([[1., 1., 1., 0., 1., 1., 0., 1., 0., 0., 0., 1., 0., 0., 1., 1., 0., 1.,\n",
       "          1., 0., 0., 1., 1., 1., 0., 1., 1., 0., 1., 0., 0., 0., 0., 1., 0., 0.,\n",
       "          0., 0., 0., 0., 1., 1., 0., 0., 0., 1., 1., 0., 1., 1., 1., 1., 0., 0.,\n",
       "          0., 1., 0., 0., 1., 1.]]),\n",
       " 'encoder_lengths': tensor([60]),\n",
       " 'decoder_cat': tensor([[[0],\n",
       "          [0],\n",
       "          [0],\n",
       "          [0],\n",
       "          [0],\n",
       "          [0],\n",
       "          [0],\n",
       "          [0],\n",
       "          [0],\n",
       "          [0],\n",
       "          [0],\n",
       "          [0],\n",
       "          [0],\n",
       "          [0],\n",
       "          [0],\n",
       "          [0],\n",
       "          [0],\n",
       "          [0],\n",
       "          [0],\n",
       "          [0],\n",
       "          [0],\n",
       "          [0],\n",
       "          [0],\n",
       "          [0],\n",
       "          [0],\n",
       "          [0],\n",
       "          [0],\n",
       "          [0],\n",
       "          [0],\n",
       "          [0],\n",
       "          [0],\n",
       "          [0],\n",
       "          [0],\n",
       "          [0],\n",
       "          [0],\n",
       "          [0],\n",
       "          [0],\n",
       "          [0],\n",
       "          [0],\n",
       "          [0],\n",
       "          [0],\n",
       "          [0],\n",
       "          [0],\n",
       "          [0],\n",
       "          [0],\n",
       "          [0],\n",
       "          [0],\n",
       "          [0],\n",
       "          [0],\n",
       "          [0],\n",
       "          [0],\n",
       "          [0],\n",
       "          [0],\n",
       "          [0],\n",
       "          [0],\n",
       "          [0],\n",
       "          [0],\n",
       "          [0],\n",
       "          [0],\n",
       "          [0],\n",
       "          [0],\n",
       "          [0],\n",
       "          [0],\n",
       "          [0],\n",
       "          [0],\n",
       "          [0],\n",
       "          [0],\n",
       "          [0],\n",
       "          [0],\n",
       "          [0],\n",
       "          [0],\n",
       "          [0],\n",
       "          [0],\n",
       "          [0],\n",
       "          [0],\n",
       "          [0],\n",
       "          [0],\n",
       "          [0],\n",
       "          [0],\n",
       "          [0],\n",
       "          [0],\n",
       "          [0],\n",
       "          [0],\n",
       "          [0],\n",
       "          [0],\n",
       "          [0],\n",
       "          [0],\n",
       "          [0],\n",
       "          [0],\n",
       "          [0],\n",
       "          [0],\n",
       "          [0],\n",
       "          [0],\n",
       "          [0],\n",
       "          [0],\n",
       "          [0],\n",
       "          [0],\n",
       "          [0],\n",
       "          [0],\n",
       "          [0]]]),\n",
       " 'decoder_cont': tensor([[[-0.9591],\n",
       "          [ 1.0253],\n",
       "          [-0.9591],\n",
       "          [-0.9591],\n",
       "          [ 1.0253],\n",
       "          [ 1.0253],\n",
       "          [-0.9591],\n",
       "          [-0.9591],\n",
       "          [ 1.0253],\n",
       "          [-0.9591],\n",
       "          [ 1.0253],\n",
       "          [-0.9591],\n",
       "          [-0.9591],\n",
       "          [-0.9591],\n",
       "          [ 1.0253],\n",
       "          [ 1.0253],\n",
       "          [ 1.0253],\n",
       "          [-0.9591],\n",
       "          [ 1.0253],\n",
       "          [-0.9591],\n",
       "          [ 1.0253],\n",
       "          [ 1.0253],\n",
       "          [-0.9591],\n",
       "          [-0.9591],\n",
       "          [ 1.0253],\n",
       "          [-0.9591],\n",
       "          [-0.9591],\n",
       "          [ 1.0253],\n",
       "          [-0.9591],\n",
       "          [-0.9591],\n",
       "          [-0.9591],\n",
       "          [ 1.0253],\n",
       "          [-0.9591],\n",
       "          [ 1.0253],\n",
       "          [ 1.0253],\n",
       "          [ 1.0253],\n",
       "          [-0.9591],\n",
       "          [-0.9591],\n",
       "          [ 1.0253],\n",
       "          [ 1.0253],\n",
       "          [ 1.0253],\n",
       "          [-0.9591],\n",
       "          [-0.9591],\n",
       "          [-0.9591],\n",
       "          [-0.9591],\n",
       "          [-0.9591],\n",
       "          [ 1.0253],\n",
       "          [ 1.0253],\n",
       "          [-0.9591],\n",
       "          [ 1.0253],\n",
       "          [-0.9591],\n",
       "          [ 1.0253],\n",
       "          [-0.9591],\n",
       "          [ 1.0253],\n",
       "          [ 1.0253],\n",
       "          [-0.9591],\n",
       "          [ 1.0253],\n",
       "          [-0.9591],\n",
       "          [ 1.0253],\n",
       "          [ 1.0253],\n",
       "          [-0.9591],\n",
       "          [-0.9591],\n",
       "          [ 1.0253],\n",
       "          [ 1.0253],\n",
       "          [-0.9591],\n",
       "          [-0.9591],\n",
       "          [-0.9591],\n",
       "          [-0.9591],\n",
       "          [ 1.0253],\n",
       "          [-0.9591],\n",
       "          [ 1.0253],\n",
       "          [ 1.0253],\n",
       "          [-0.9591],\n",
       "          [-0.9591],\n",
       "          [ 1.0253],\n",
       "          [ 1.0253],\n",
       "          [ 1.0253],\n",
       "          [ 1.0253],\n",
       "          [-0.9591],\n",
       "          [ 1.0253],\n",
       "          [-0.9591],\n",
       "          [ 1.0253],\n",
       "          [ 1.0253],\n",
       "          [ 1.0253],\n",
       "          [ 1.0253],\n",
       "          [ 1.0253],\n",
       "          [ 1.0253],\n",
       "          [ 1.0253],\n",
       "          [-0.9591],\n",
       "          [-0.9591],\n",
       "          [ 1.0253],\n",
       "          [ 1.0253],\n",
       "          [-0.9591],\n",
       "          [ 1.0253],\n",
       "          [-0.9591],\n",
       "          [ 1.0253],\n",
       "          [ 1.0253],\n",
       "          [-0.9591],\n",
       "          [ 1.0253],\n",
       "          [-0.9591]]]),\n",
       " 'decoder_target': tensor([[0., 1., 0., 0., 1., 1., 0., 0., 1., 0., 1., 0., 0., 0., 1., 1., 1., 0.,\n",
       "          1., 0., 1., 1., 0., 0., 1., 0., 0., 1., 0., 0., 0., 1., 0., 1., 1., 1.,\n",
       "          0., 0., 1., 1., 1., 0., 0., 0., 0., 0., 1., 1., 0., 1., 0., 1., 0., 1.,\n",
       "          1., 0., 1., 0., 1., 1., 0., 0., 1., 1., 0., 0., 0., 0., 1., 0., 1., 1.,\n",
       "          0., 0., 1., 1., 1., 1., 0., 1., 0., 1., 1., 1., 1., 1., 1., 1., 0., 0.,\n",
       "          1., 1., 0., 1., 0., 1., 1., 0., 1., 0.]]),\n",
       " 'decoder_lengths': tensor([100]),\n",
       " 'decoder_time_idx': tensor([[809, 810, 811, 812, 813, 814, 815, 816, 817, 818, 819, 820, 821, 822,\n",
       "          823, 824, 825, 826, 827, 828, 829, 830, 831, 832, 833, 834, 835, 836,\n",
       "          837, 838, 839, 840, 841, 842, 843, 844, 845, 846, 847, 848, 849, 850,\n",
       "          851, 852, 853, 854, 855, 856, 857, 858, 859, 860, 861, 862, 863, 864,\n",
       "          865, 866, 867, 868, 869, 870, 871, 872, 873, 874, 875, 876, 877, 878,\n",
       "          879, 880, 881, 882, 883, 884, 885, 886, 887, 888, 889, 890, 891, 892,\n",
       "          893, 894, 895, 896, 897, 898, 899, 900, 901, 902, 903, 904, 905, 906,\n",
       "          907, 908]]),\n",
       " 'groups': tensor([[0]]),\n",
       " 'target_scale': tensor([[0.4833, 0.5039]])}"
      ]
     },
     "execution_count": 60,
     "metadata": {},
     "output_type": "execute_result"
    }
   ],
   "source": [
    "x"
   ]
  },
  {
   "cell_type": "code",
   "execution_count": 78,
   "id": "92529672",
   "metadata": {},
   "outputs": [
    {
     "data": {
      "text/plain": [
       "tensor([ 1.2091,  0.5288,  1.4584,  1.2532,  0.6513,  0.5314,  0.9610,  0.2764,\n",
       "         0.8803,  0.8686,  0.6640,  0.6848,  0.3270,  0.4480,  0.9474,  1.0132,\n",
       "         0.8347,  0.8875,  1.0029,  0.0849,  1.0465,  0.3961,  0.4558,  0.3356,\n",
       "        -0.3178,  0.4648,  0.5658,  0.4751,  0.4488,  0.5634, -0.4297,  1.4985,\n",
       "         0.7661, -0.1439,  0.2213,  0.2339, -0.1839,  1.4667,  1.1603,  0.1724,\n",
       "         0.7306,  0.8450,  0.1405,  0.9445,  0.6909,  0.4195,  1.5623, -0.1516,\n",
       "         0.3598,  1.0078,  0.8659,  0.0278,  0.3344, -1.0225, -0.1282,  0.1761,\n",
       "         0.5830,  0.7842,  0.1571,  0.1940,  1.3079,  0.5269, -0.3153,  1.4357,\n",
       "         1.2597,  1.3247,  1.0849,  0.9565,  0.4750, -0.4362,  0.7169, -0.1379,\n",
       "        -0.0049,  1.1181, -0.3909,  0.8673,  0.4811,  0.8432,  0.8734,  1.1333,\n",
       "         0.8343,  0.5293,  0.5195,  0.4666,  0.1339, -0.0371,  0.7031, -0.3757,\n",
       "         0.9665,  0.0649,  0.8454,  1.0152, -0.2321,  0.1206,  1.2477,  0.0592,\n",
       "        -0.4042,  0.1496,  1.5857,  0.2450])"
      ]
     },
     "execution_count": 78,
     "metadata": {},
     "output_type": "execute_result"
    }
   ],
   "source": [
    "raw_predictions[0][0][99]"
   ]
  },
  {
   "cell_type": "code",
   "execution_count": 80,
   "id": "c4523c1b",
   "metadata": {},
   "outputs": [
    {
     "data": {
      "text/plain": [
       "tensor([[1., 1., 1., 0., 1., 1., 0., 1., 0., 0., 0., 1., 0., 0., 1., 1., 0., 1.,\n",
       "         1., 0., 0., 1., 1., 1., 0., 1., 1., 0., 1., 0., 0., 0., 0., 1., 0., 0.,\n",
       "         0., 0., 0., 0., 1., 1., 0., 0., 0., 1., 1., 0., 1., 1., 1., 1., 0., 0.,\n",
       "         0., 1., 0., 0., 1., 1.]])"
      ]
     },
     "execution_count": 80,
     "metadata": {},
     "output_type": "execute_result"
    }
   ],
   "source": [
    "x['encoder_target']"
   ]
  },
  {
   "cell_type": "code",
   "execution_count": 66,
   "id": "d15fcafb",
   "metadata": {},
   "outputs": [],
   "source": [
    "from pytorch_forecasting.metrics.point import RMSE"
   ]
  },
  {
   "cell_type": "code",
   "execution_count": 81,
   "id": "ec09935a",
   "metadata": {},
   "outputs": [
    {
     "ename": "RuntimeError",
     "evalue": "The size of tensor a (100) must match the size of tensor b (60) at non-singleton dimension 1",
     "output_type": "error",
     "traceback": [
      "\u001b[1;31m---------------------------------------------------------------------------\u001b[0m",
      "\u001b[1;31mRuntimeError\u001b[0m                              Traceback (most recent call last)",
      "\u001b[1;32m<ipython-input-81-faa4c8f1e878>\u001b[0m in \u001b[0;36m<module>\u001b[1;34m\u001b[0m\n\u001b[1;32m----> 1\u001b[1;33m \u001b[0mRMSE\u001b[0m\u001b[1;33m(\u001b[0m\u001b[1;33m)\u001b[0m\u001b[1;33m.\u001b[0m\u001b[0mloss\u001b[0m\u001b[1;33m(\u001b[0m\u001b[0mraw_predictions\u001b[0m\u001b[1;33m[\u001b[0m\u001b[1;36m0\u001b[0m\u001b[1;33m]\u001b[0m\u001b[1;33m[\u001b[0m\u001b[1;36m0\u001b[0m\u001b[1;33m]\u001b[0m\u001b[1;33m[\u001b[0m\u001b[1;36m99\u001b[0m\u001b[1;33m]\u001b[0m\u001b[1;33m,\u001b[0m\u001b[0mx\u001b[0m\u001b[1;33m[\u001b[0m\u001b[1;34m'encoder_target'\u001b[0m\u001b[1;33m]\u001b[0m\u001b[1;33m)\u001b[0m\u001b[1;33m\u001b[0m\u001b[1;33m\u001b[0m\u001b[0m\n\u001b[0m",
      "\u001b[1;32m~\\anaconda3\\lib\\site-packages\\pytorch_forecasting\\metrics\\point.py\u001b[0m in \u001b[0;36mloss\u001b[1;34m(self, y_pred, target)\u001b[0m\n\u001b[0;32m    142\u001b[0m \u001b[1;33m\u001b[0m\u001b[0m\n\u001b[0;32m    143\u001b[0m     \u001b[1;32mdef\u001b[0m \u001b[0mloss\u001b[0m\u001b[1;33m(\u001b[0m\u001b[0mself\u001b[0m\u001b[1;33m,\u001b[0m \u001b[0my_pred\u001b[0m\u001b[1;33m:\u001b[0m \u001b[0mDict\u001b[0m\u001b[1;33m[\u001b[0m\u001b[0mstr\u001b[0m\u001b[1;33m,\u001b[0m \u001b[0mtorch\u001b[0m\u001b[1;33m.\u001b[0m\u001b[0mTensor\u001b[0m\u001b[1;33m]\u001b[0m\u001b[1;33m,\u001b[0m \u001b[0mtarget\u001b[0m\u001b[1;33m)\u001b[0m\u001b[1;33m:\u001b[0m\u001b[1;33m\u001b[0m\u001b[1;33m\u001b[0m\u001b[0m\n\u001b[1;32m--> 144\u001b[1;33m         \u001b[0mloss\u001b[0m \u001b[1;33m=\u001b[0m \u001b[0mtorch\u001b[0m\u001b[1;33m.\u001b[0m\u001b[0mpow\u001b[0m\u001b[1;33m(\u001b[0m\u001b[0mself\u001b[0m\u001b[1;33m.\u001b[0m\u001b[0mto_prediction\u001b[0m\u001b[1;33m(\u001b[0m\u001b[0my_pred\u001b[0m\u001b[1;33m)\u001b[0m \u001b[1;33m-\u001b[0m \u001b[0mtarget\u001b[0m\u001b[1;33m,\u001b[0m \u001b[1;36m2\u001b[0m\u001b[1;33m)\u001b[0m\u001b[1;33m\u001b[0m\u001b[1;33m\u001b[0m\u001b[0m\n\u001b[0m\u001b[0;32m    145\u001b[0m         \u001b[1;32mreturn\u001b[0m \u001b[0mloss\u001b[0m\u001b[1;33m\u001b[0m\u001b[1;33m\u001b[0m\u001b[0m\n\u001b[0;32m    146\u001b[0m \u001b[1;33m\u001b[0m\u001b[0m\n",
      "\u001b[1;31mRuntimeError\u001b[0m: The size of tensor a (100) must match the size of tensor b (60) at non-singleton dimension 1"
     ]
    }
   ],
   "source": [
    "RMSE().loss(raw_predictions[0][0][99],x['encoder_target'])"
   ]
  },
  {
   "cell_type": "code",
   "execution_count": 70,
   "id": "5cc0b724",
   "metadata": {},
   "outputs": [
    {
     "data": {
      "text/plain": [
       "<torch.utils.data.sampler.SequentialSampler at 0x23bc9b9a730>"
      ]
     },
     "execution_count": 70,
     "metadata": {},
     "output_type": "execute_result"
    }
   ],
   "source": []
  },
  {
   "cell_type": "code",
   "execution_count": null,
   "id": "29013d73",
   "metadata": {},
   "outputs": [],
   "source": []
  }
 ],
 "metadata": {
  "kernelspec": {
   "display_name": "Python 3",
   "language": "python",
   "name": "python3"
  },
  "language_info": {
   "codemirror_mode": {
    "name": "ipython",
    "version": 3
   },
   "file_extension": ".py",
   "mimetype": "text/x-python",
   "name": "python",
   "nbconvert_exporter": "python",
   "pygments_lexer": "ipython3",
   "version": "3.8.8"
  }
 },
 "nbformat": 4,
 "nbformat_minor": 5
}
